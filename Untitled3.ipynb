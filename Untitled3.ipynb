{
  "nbformat": 4,
  "nbformat_minor": 0,
  "metadata": {
    "colab": {
      "name": "Untitled3.ipynb",
      "provenance": [],
      "include_colab_link": true
    },
    "kernelspec": {
      "name": "python3",
      "display_name": "Python 3"
    }
  },
  "cells": [
    {
      "cell_type": "markdown",
      "metadata": {
        "id": "view-in-github",
        "colab_type": "text"
      },
      "source": [
        "<a href=\"https://colab.research.google.com/github/CatarineGoncalves/AulaDicionaryPython/blob/master/Untitled3.ipynb\" target=\"_parent\"><img src=\"https://colab.research.google.com/assets/colab-badge.svg\" alt=\"Open In Colab\"/></a>"
      ]
    },
    {
      "cell_type": "code",
      "metadata": {
        "id": "k2vM4PFCPKck",
        "colab_type": "code",
        "colab": {}
      },
      "source": [
        "farma = {'analgesicos' :{'dipirona':'1.99','dorflex':'3.50','nesaudina':'4.90'},\n",
        "         'soro nasal':{'narix':'1.99', 'rinosoro':'5.99','neosoro':'8.99'},\n",
        "         'tintura creme':{'cor&tom':'15.50','koleston':'18.30'}}  \n"
      ],
      "execution_count": 0,
      "outputs": []
    },
    {
      "cell_type": "code",
      "metadata": {
        "id": "nMHLlF3uRpXN",
        "colab_type": "code",
        "colab": {}
      },
      "source": [
        "for key, val in farma.items():\n",
        "  print(key,'=>',val)"
      ],
      "execution_count": 0,
      "outputs": []
    },
    {
      "cell_type": "code",
      "metadata": {
        "id": "XRrwDmQCRrO0",
        "colab_type": "code",
        "colab": {}
      },
      "source": [
        "valor_grupo = 0\n",
        "for grupo,dic_inside in farma.items():\n",
        "  valor_grupo = 0\n",
        "  for produto in dic_inside:\n",
        "    print(produto,'=>',dic_inside[produto])\n",
        "    valor_grupo = float(valor_grupo) + float(dic_inside[produto])\n",
        "  print('Valor Grupo => {} + {}'.format(grupo,valor_grupo))\n",
        "  print('Valor total => ')\n",
        "  "
      ],
      "execution_count": 0,
      "outputs": []
    },
    {
      "cell_type": "code",
      "metadata": {
        "id": "jQRZTioKRuXa",
        "colab_type": "code",
        "colab": {}
      },
      "source": [
        "soma_grupos = 0\n",
        "valor_grupo = 0\n",
        "for grupo,dic_inside in farma.items():\n",
        "  valor_grupo = 0\n",
        "  for produto in dic_inside:\n",
        "    print(produto,'=>',dic_inside[produto])\n",
        "    valor_grupo = float(valor_grupo) + float(dic_inside[produto])\n",
        "  soma_grupos = soma_grupos + float (valor_grupo)\n",
        "  print('Valor Grupo => {} + {}'.format(grupo,valor_grupo))\n",
        "  print('Valor total => {}'.format(soma_grupos))"
      ],
      "execution_count": 0,
      "outputs": []
    },
    {
      "cell_type": "code",
      "metadata": {
        "id": "xeCpq1XQT9Ef",
        "colab_type": "code",
        "colab": {}
      },
      "source": [
        "musician = {'Pop':{'Lady Gaga':'29.66','Beyonce':'40.99','Taylor Swift':'33.50'},\n",
        "            'Indie':{'Arctic Monkeys':'50.99','Lana del Rey':'42.50','The Strokes':'99.50'},\n",
        "            'Eletronica':{'David Guetta': '60.00', 'Nervo':'35.33','Skrillex':'18.43'}}"
      ],
      "execution_count": 0,
      "outputs": []
    },
    {
      "cell_type": "code",
      "metadata": {
        "id": "4al0Inu_VPQc",
        "colab_type": "code",
        "colab": {}
      },
      "source": [
        "musician"
      ],
      "execution_count": 0,
      "outputs": []
    },
    {
      "cell_type": "code",
      "metadata": {
        "id": "sJN8YhiEVYiq",
        "colab_type": "code",
        "outputId": "e219f961-acb7-4a41-ff20-5ca33bb69c56",
        "colab": {
          "base_uri": "https://localhost:8080/",
          "height": 67
        }
      },
      "source": [
        "for key, val in musician.items():\n",
        "  print(key, '=>', val)"
      ],
      "execution_count": 0,
      "outputs": [
        {
          "output_type": "stream",
          "text": [
            "Pop => {'Lady Gaga': '29.66', 'Beyonce': '40.99', 'Taylor Swift': '33.50'}\n",
            "Indie => {'Arctic Monkeys': '50.99', 'Lana del Rey': '42.50', 'The Strokes': '99.50'}\n",
            "Eletronica => {'David Guetta': '60.00', 'Nervo': '35.33', 'Skrillex': '18.43'}\n"
          ],
          "name": "stdout"
        }
      ]
    },
    {
      "cell_type": "code",
      "metadata": {
        "id": "XDPLhh3Vez4u",
        "colab_type": "code",
        "colab": {}
      },
      "source": [
        ""
      ],
      "execution_count": 0,
      "outputs": []
    }
  ]
}